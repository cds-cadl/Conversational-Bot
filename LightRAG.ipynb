{
 "cells": [
  {
   "cell_type": "code",
   "execution_count": null,
   "metadata": {
    "colab": {
     "base_uri": "https://localhost:8080/"
    },
    "id": "UmZ7m_YwuAVy",
    "outputId": "56d50b01-fced-466a-e05b-9e2ffaaa4358"
   },
   "outputs": [
    {
     "name": "stdout",
     "output_type": "stream",
     "text": [
      "Collecting lightrag-hku==0.0.7\n",
      "  Downloading lightrag_hku-0.0.7-py3-none-any.whl.metadata (25 kB)\n",
      "Requirement already satisfied: accelerate in /usr/local/lib/python3.10/dist-packages (from lightrag-hku==0.0.7) (1.1.1)\n",
      "Collecting aioboto3 (from lightrag-hku==0.0.7)\n",
      "  Downloading aioboto3-13.2.0-py3-none-any.whl.metadata (8.8 kB)\n",
      "Collecting graspologic (from lightrag-hku==0.0.7)\n",
      "  Downloading graspologic-3.4.1-py3-none-any.whl.metadata (5.8 kB)\n",
      "Collecting hnswlib (from lightrag-hku==0.0.7)\n",
      "  Downloading hnswlib-0.8.0.tar.gz (36 kB)\n",
      "  Installing build dependencies ... \u001b[?25l\u001b[?25hdone\n",
      "  Getting requirements to build wheel ... \u001b[?25l\u001b[?25hdone\n",
      "  Preparing metadata (pyproject.toml) ... \u001b[?25l\u001b[?25hdone\n",
      "Collecting nano-vectordb (from lightrag-hku==0.0.7)\n",
      "  Downloading nano_vectordb-0.0.4.3-py3-none-any.whl.metadata (3.7 kB)\n",
      "Requirement already satisfied: networkx in /usr/local/lib/python3.10/dist-packages (from lightrag-hku==0.0.7) (3.4.2)\n",
      "Collecting ollama (from lightrag-hku==0.0.7)\n",
      "  Downloading ollama-0.3.3-py3-none-any.whl.metadata (3.8 kB)\n",
      "Requirement already satisfied: openai in /usr/local/lib/python3.10/dist-packages (from lightrag-hku==0.0.7) (1.54.3)\n",
      "Requirement already satisfied: tenacity in /usr/local/lib/python3.10/dist-packages (from lightrag-hku==0.0.7) (9.0.0)\n",
      "Collecting tiktoken (from lightrag-hku==0.0.7)\n",
      "  Downloading tiktoken-0.8.0-cp310-cp310-manylinux_2_17_x86_64.manylinux2014_x86_64.whl.metadata (6.6 kB)\n",
      "Requirement already satisfied: torch in /usr/local/lib/python3.10/dist-packages (from lightrag-hku==0.0.7) (2.5.0+cu121)\n",
      "Requirement already satisfied: transformers in /usr/local/lib/python3.10/dist-packages (from lightrag-hku==0.0.7) (4.46.2)\n",
      "Collecting xxhash (from lightrag-hku==0.0.7)\n",
      "  Downloading xxhash-3.5.0-cp310-cp310-manylinux_2_17_x86_64.manylinux2014_x86_64.whl.metadata (12 kB)\n",
      "Collecting pyvis (from lightrag-hku==0.0.7)\n",
      "  Downloading pyvis-0.3.2-py3-none-any.whl.metadata (1.7 kB)\n",
      "Requirement already satisfied: huggingface-hub>=0.21.0 in /usr/local/lib/python3.10/dist-packages (from accelerate->lightrag-hku==0.0.7) (0.26.2)\n",
      "Requirement already satisfied: numpy<3.0.0,>=1.17 in /usr/local/lib/python3.10/dist-packages (from accelerate->lightrag-hku==0.0.7) (1.26.4)\n",
      "Requirement already satisfied: packaging>=20.0 in /usr/local/lib/python3.10/dist-packages (from accelerate->lightrag-hku==0.0.7) (24.2)\n",
      "Requirement already satisfied: psutil in /usr/local/lib/python3.10/dist-packages (from accelerate->lightrag-hku==0.0.7) (5.9.5)\n",
      "Requirement already satisfied: pyyaml in /usr/local/lib/python3.10/dist-packages (from accelerate->lightrag-hku==0.0.7) (6.0.2)\n",
      "Requirement already satisfied: safetensors>=0.4.3 in /usr/local/lib/python3.10/dist-packages (from accelerate->lightrag-hku==0.0.7) (0.4.5)\n",
      "Requirement already satisfied: filelock in /usr/local/lib/python3.10/dist-packages (from torch->lightrag-hku==0.0.7) (3.16.1)\n",
      "Requirement already satisfied: typing-extensions>=4.8.0 in /usr/local/lib/python3.10/dist-packages (from torch->lightrag-hku==0.0.7) (4.12.2)\n",
      "Requirement already satisfied: jinja2 in /usr/local/lib/python3.10/dist-packages (from torch->lightrag-hku==0.0.7) (3.1.4)\n",
      "Requirement already satisfied: fsspec in /usr/local/lib/python3.10/dist-packages (from torch->lightrag-hku==0.0.7) (2024.10.0)\n",
      "Requirement already satisfied: sympy==1.13.1 in /usr/local/lib/python3.10/dist-packages (from torch->lightrag-hku==0.0.7) (1.13.1)\n",
      "Requirement already satisfied: mpmath<1.4,>=1.1.0 in /usr/local/lib/python3.10/dist-packages (from sympy==1.13.1->torch->lightrag-hku==0.0.7) (1.3.0)\n",
      "Collecting aiobotocore==2.15.2 (from aiobotocore[boto3]==2.15.2->aioboto3->lightrag-hku==0.0.7)\n",
      "  Downloading aiobotocore-2.15.2-py3-none-any.whl.metadata (23 kB)\n",
      "Collecting aiofiles>=23.2.1 (from aioboto3->lightrag-hku==0.0.7)\n",
      "  Downloading aiofiles-24.1.0-py3-none-any.whl.metadata (10 kB)\n",
      "Collecting botocore<1.35.37,>=1.35.16 (from aiobotocore==2.15.2->aiobotocore[boto3]==2.15.2->aioboto3->lightrag-hku==0.0.7)\n",
      "  Downloading botocore-1.35.36-py3-none-any.whl.metadata (5.7 kB)\n",
      "Requirement already satisfied: aiohttp<4.0.0,>=3.9.2 in /usr/local/lib/python3.10/dist-packages (from aiobotocore==2.15.2->aiobotocore[boto3]==2.15.2->aioboto3->lightrag-hku==0.0.7) (3.10.10)\n",
      "Requirement already satisfied: wrapt<2.0.0,>=1.10.10 in /usr/local/lib/python3.10/dist-packages (from aiobotocore==2.15.2->aiobotocore[boto3]==2.15.2->aioboto3->lightrag-hku==0.0.7) (1.16.0)\n",
      "Collecting aioitertools<1.0.0,>=0.5.1 (from aiobotocore==2.15.2->aiobotocore[boto3]==2.15.2->aioboto3->lightrag-hku==0.0.7)\n",
      "  Downloading aioitertools-0.12.0-py3-none-any.whl.metadata (3.8 kB)\n",
      "Collecting boto3<1.35.37,>=1.35.16 (from aiobotocore[boto3]==2.15.2->aioboto3->lightrag-hku==0.0.7)\n",
      "  Downloading boto3-1.35.36-py3-none-any.whl.metadata (6.7 kB)\n",
      "Collecting POT<0.10,>=0.9 (from graspologic->lightrag-hku==0.0.7)\n",
      "  Downloading POT-0.9.5-cp310-cp310-manylinux_2_17_x86_64.manylinux2014_x86_64.whl.metadata (34 kB)\n",
      "Collecting anytree<3.0.0,>=2.12.1 (from graspologic->lightrag-hku==0.0.7)\n",
      "  Downloading anytree-2.12.1-py3-none-any.whl.metadata (8.1 kB)\n",
      "Collecting beartype<0.19.0,>=0.18.5 (from graspologic->lightrag-hku==0.0.7)\n",
      "  Downloading beartype-0.18.5-py3-none-any.whl.metadata (30 kB)\n",
      "Requirement already satisfied: gensim<5.0.0,>=4.3.2 in /usr/local/lib/python3.10/dist-packages (from graspologic->lightrag-hku==0.0.7) (4.3.3)\n",
      "Collecting graspologic-native<2.0.0,>=1.2.1 (from graspologic->lightrag-hku==0.0.7)\n",
      "  Downloading graspologic_native-1.2.1-cp36-abi3-manylinux_2_17_x86_64.manylinux2014_x86_64.whl.metadata (1.9 kB)\n",
      "Collecting hyppo<0.5.0,>=0.4.0 (from graspologic->lightrag-hku==0.0.7)\n",
      "  Downloading hyppo-0.4.0-py3-none-any.whl.metadata (1.7 kB)\n",
      "Requirement already satisfied: joblib<2.0.0,>=1.4.2 in /usr/local/lib/python3.10/dist-packages (from graspologic->lightrag-hku==0.0.7) (1.4.2)\n",
      "Collecting matplotlib<4.0.0,>=3.8.4 (from graspologic->lightrag-hku==0.0.7)\n",
      "  Downloading matplotlib-3.9.2-cp310-cp310-manylinux_2_17_x86_64.manylinux2014_x86_64.whl.metadata (11 kB)\n",
      "Requirement already satisfied: scikit-learn<2.0.0,>=1.4.2 in /usr/local/lib/python3.10/dist-packages (from graspologic->lightrag-hku==0.0.7) (1.5.2)\n",
      "Collecting scipy==1.12.0 (from graspologic->lightrag-hku==0.0.7)\n",
      "  Downloading scipy-1.12.0-cp310-cp310-manylinux_2_17_x86_64.manylinux2014_x86_64.whl.metadata (60 kB)\n",
      "\u001b[2K     \u001b[90m━━━━━━━━━━━━━━━━━━━━━━━━━━━━━━━━━━━━━━━━\u001b[0m \u001b[32m60.4/60.4 kB\u001b[0m \u001b[31m2.0 MB/s\u001b[0m eta \u001b[36m0:00:00\u001b[0m\n",
      "\u001b[?25hRequirement already satisfied: seaborn<0.14.0,>=0.13.2 in /usr/local/lib/python3.10/dist-packages (from graspologic->lightrag-hku==0.0.7) (0.13.2)\n",
      "Requirement already satisfied: statsmodels<0.15.0,>=0.14.2 in /usr/local/lib/python3.10/dist-packages (from graspologic->lightrag-hku==0.0.7) (0.14.4)\n",
      "Collecting umap-learn<0.6.0,>=0.5.6 (from graspologic->lightrag-hku==0.0.7)\n",
      "  Downloading umap_learn-0.5.7-py3-none-any.whl.metadata (21 kB)\n",
      "Requirement already satisfied: httpx<0.28.0,>=0.27.0 in /usr/local/lib/python3.10/dist-packages (from ollama->lightrag-hku==0.0.7) (0.27.2)\n",
      "Requirement already satisfied: anyio<5,>=3.5.0 in /usr/local/lib/python3.10/dist-packages (from openai->lightrag-hku==0.0.7) (3.7.1)\n",
      "Requirement already satisfied: distro<2,>=1.7.0 in /usr/local/lib/python3.10/dist-packages (from openai->lightrag-hku==0.0.7) (1.9.0)\n",
      "Requirement already satisfied: jiter<1,>=0.4.0 in /usr/local/lib/python3.10/dist-packages (from openai->lightrag-hku==0.0.7) (0.7.0)\n",
      "Requirement already satisfied: pydantic<3,>=1.9.0 in /usr/local/lib/python3.10/dist-packages (from openai->lightrag-hku==0.0.7) (2.9.2)\n",
      "Requirement already satisfied: sniffio in /usr/local/lib/python3.10/dist-packages (from openai->lightrag-hku==0.0.7) (1.3.1)\n",
      "Requirement already satisfied: tqdm>4 in /usr/local/lib/python3.10/dist-packages (from openai->lightrag-hku==0.0.7) (4.66.6)\n",
      "Requirement already satisfied: ipython>=5.3.0 in /usr/local/lib/python3.10/dist-packages (from pyvis->lightrag-hku==0.0.7) (7.34.0)\n",
      "Requirement already satisfied: jsonpickle>=1.4.1 in /usr/local/lib/python3.10/dist-packages (from pyvis->lightrag-hku==0.0.7) (3.4.2)\n",
      "Requirement already satisfied: regex>=2022.1.18 in /usr/local/lib/python3.10/dist-packages (from tiktoken->lightrag-hku==0.0.7) (2024.9.11)\n",
      "Requirement already satisfied: requests>=2.26.0 in /usr/local/lib/python3.10/dist-packages (from tiktoken->lightrag-hku==0.0.7) (2.32.3)\n",
      "Requirement already satisfied: tokenizers<0.21,>=0.20 in /usr/local/lib/python3.10/dist-packages (from transformers->lightrag-hku==0.0.7) (0.20.3)\n",
      "Requirement already satisfied: idna>=2.8 in /usr/local/lib/python3.10/dist-packages (from anyio<5,>=3.5.0->openai->lightrag-hku==0.0.7) (3.10)\n",
      "Requirement already satisfied: exceptiongroup in /usr/local/lib/python3.10/dist-packages (from anyio<5,>=3.5.0->openai->lightrag-hku==0.0.7) (1.2.2)\n",
      "Requirement already satisfied: six in /usr/local/lib/python3.10/dist-packages (from anytree<3.0.0,>=2.12.1->graspologic->lightrag-hku==0.0.7) (1.16.0)\n",
      "Requirement already satisfied: smart-open>=1.8.1 in /usr/local/lib/python3.10/dist-packages (from gensim<5.0.0,>=4.3.2->graspologic->lightrag-hku==0.0.7) (7.0.5)\n",
      "Requirement already satisfied: certifi in /usr/local/lib/python3.10/dist-packages (from httpx<0.28.0,>=0.27.0->ollama->lightrag-hku==0.0.7) (2024.8.30)\n",
      "Requirement already satisfied: httpcore==1.* in /usr/local/lib/python3.10/dist-packages (from httpx<0.28.0,>=0.27.0->ollama->lightrag-hku==0.0.7) (1.0.6)\n",
      "Requirement already satisfied: h11<0.15,>=0.13 in /usr/local/lib/python3.10/dist-packages (from httpcore==1.*->httpx<0.28.0,>=0.27.0->ollama->lightrag-hku==0.0.7) (0.14.0)\n",
      "Requirement already satisfied: numba>=0.46 in /usr/local/lib/python3.10/dist-packages (from hyppo<0.5.0,>=0.4.0->graspologic->lightrag-hku==0.0.7) (0.60.0)\n",
      "Requirement already satisfied: autograd>=1.3 in /usr/local/lib/python3.10/dist-packages (from hyppo<0.5.0,>=0.4.0->graspologic->lightrag-hku==0.0.7) (1.7.0)\n",
      "Requirement already satisfied: setuptools>=18.5 in /usr/local/lib/python3.10/dist-packages (from ipython>=5.3.0->pyvis->lightrag-hku==0.0.7) (75.1.0)\n",
      "Collecting jedi>=0.16 (from ipython>=5.3.0->pyvis->lightrag-hku==0.0.7)\n",
      "  Downloading jedi-0.19.2-py2.py3-none-any.whl.metadata (22 kB)\n",
      "Requirement already satisfied: decorator in /usr/local/lib/python3.10/dist-packages (from ipython>=5.3.0->pyvis->lightrag-hku==0.0.7) (4.4.2)\n",
      "Requirement already satisfied: pickleshare in /usr/local/lib/python3.10/dist-packages (from ipython>=5.3.0->pyvis->lightrag-hku==0.0.7) (0.7.5)\n",
      "Requirement already satisfied: traitlets>=4.2 in /usr/local/lib/python3.10/dist-packages (from ipython>=5.3.0->pyvis->lightrag-hku==0.0.7) (5.7.1)\n",
      "Requirement already satisfied: prompt-toolkit!=3.0.0,!=3.0.1,<3.1.0,>=2.0.0 in /usr/local/lib/python3.10/dist-packages (from ipython>=5.3.0->pyvis->lightrag-hku==0.0.7) (3.0.48)\n",
      "Requirement already satisfied: pygments in /usr/local/lib/python3.10/dist-packages (from ipython>=5.3.0->pyvis->lightrag-hku==0.0.7) (2.18.0)\n",
      "Requirement already satisfied: backcall in /usr/local/lib/python3.10/dist-packages (from ipython>=5.3.0->pyvis->lightrag-hku==0.0.7) (0.2.0)\n",
      "Requirement already satisfied: matplotlib-inline in /usr/local/lib/python3.10/dist-packages (from ipython>=5.3.0->pyvis->lightrag-hku==0.0.7) (0.1.7)\n",
      "Requirement already satisfied: pexpect>4.3 in /usr/local/lib/python3.10/dist-packages (from ipython>=5.3.0->pyvis->lightrag-hku==0.0.7) (4.9.0)\n",
      "Requirement already satisfied: MarkupSafe>=2.0 in /usr/local/lib/python3.10/dist-packages (from jinja2->torch->lightrag-hku==0.0.7) (3.0.2)\n",
      "Requirement already satisfied: contourpy>=1.0.1 in /usr/local/lib/python3.10/dist-packages (from matplotlib<4.0.0,>=3.8.4->graspologic->lightrag-hku==0.0.7) (1.3.0)\n",
      "Requirement already satisfied: cycler>=0.10 in /usr/local/lib/python3.10/dist-packages (from matplotlib<4.0.0,>=3.8.4->graspologic->lightrag-hku==0.0.7) (0.12.1)\n",
      "Requirement already satisfied: fonttools>=4.22.0 in /usr/local/lib/python3.10/dist-packages (from matplotlib<4.0.0,>=3.8.4->graspologic->lightrag-hku==0.0.7) (4.54.1)\n",
      "Requirement already satisfied: kiwisolver>=1.3.1 in /usr/local/lib/python3.10/dist-packages (from matplotlib<4.0.0,>=3.8.4->graspologic->lightrag-hku==0.0.7) (1.4.7)\n",
      "Requirement already satisfied: pillow>=8 in /usr/local/lib/python3.10/dist-packages (from matplotlib<4.0.0,>=3.8.4->graspologic->lightrag-hku==0.0.7) (11.0.0)\n",
      "Requirement already satisfied: pyparsing>=2.3.1 in /usr/local/lib/python3.10/dist-packages (from matplotlib<4.0.0,>=3.8.4->graspologic->lightrag-hku==0.0.7) (3.2.0)\n",
      "Requirement already satisfied: python-dateutil>=2.7 in /usr/local/lib/python3.10/dist-packages (from matplotlib<4.0.0,>=3.8.4->graspologic->lightrag-hku==0.0.7) (2.8.2)\n",
      "Requirement already satisfied: annotated-types>=0.6.0 in /usr/local/lib/python3.10/dist-packages (from pydantic<3,>=1.9.0->openai->lightrag-hku==0.0.7) (0.7.0)\n",
      "Requirement already satisfied: pydantic-core==2.23.4 in /usr/local/lib/python3.10/dist-packages (from pydantic<3,>=1.9.0->openai->lightrag-hku==0.0.7) (2.23.4)\n",
      "Requirement already satisfied: charset-normalizer<4,>=2 in /usr/local/lib/python3.10/dist-packages (from requests>=2.26.0->tiktoken->lightrag-hku==0.0.7) (3.4.0)\n",
      "Requirement already satisfied: urllib3<3,>=1.21.1 in /usr/local/lib/python3.10/dist-packages (from requests>=2.26.0->tiktoken->lightrag-hku==0.0.7) (2.2.3)\n",
      "Requirement already satisfied: threadpoolctl>=3.1.0 in /usr/local/lib/python3.10/dist-packages (from scikit-learn<2.0.0,>=1.4.2->graspologic->lightrag-hku==0.0.7) (3.5.0)\n",
      "Requirement already satisfied: pandas>=1.2 in /usr/local/lib/python3.10/dist-packages (from seaborn<0.14.0,>=0.13.2->graspologic->lightrag-hku==0.0.7) (2.2.2)\n",
      "Requirement already satisfied: patsy>=0.5.6 in /usr/local/lib/python3.10/dist-packages (from statsmodels<0.15.0,>=0.14.2->graspologic->lightrag-hku==0.0.7) (0.5.6)\n",
      "Collecting pynndescent>=0.5 (from umap-learn<0.6.0,>=0.5.6->graspologic->lightrag-hku==0.0.7)\n",
      "  Downloading pynndescent-0.5.13-py3-none-any.whl.metadata (6.8 kB)\n",
      "Requirement already satisfied: aiohappyeyeballs>=2.3.0 in /usr/local/lib/python3.10/dist-packages (from aiohttp<4.0.0,>=3.9.2->aiobotocore==2.15.2->aiobotocore[boto3]==2.15.2->aioboto3->lightrag-hku==0.0.7) (2.4.3)\n",
      "Requirement already satisfied: aiosignal>=1.1.2 in /usr/local/lib/python3.10/dist-packages (from aiohttp<4.0.0,>=3.9.2->aiobotocore==2.15.2->aiobotocore[boto3]==2.15.2->aioboto3->lightrag-hku==0.0.7) (1.3.1)\n",
      "Requirement already satisfied: attrs>=17.3.0 in /usr/local/lib/python3.10/dist-packages (from aiohttp<4.0.0,>=3.9.2->aiobotocore==2.15.2->aiobotocore[boto3]==2.15.2->aioboto3->lightrag-hku==0.0.7) (24.2.0)\n",
      "Requirement already satisfied: frozenlist>=1.1.1 in /usr/local/lib/python3.10/dist-packages (from aiohttp<4.0.0,>=3.9.2->aiobotocore==2.15.2->aiobotocore[boto3]==2.15.2->aioboto3->lightrag-hku==0.0.7) (1.5.0)\n",
      "Requirement already satisfied: multidict<7.0,>=4.5 in /usr/local/lib/python3.10/dist-packages (from aiohttp<4.0.0,>=3.9.2->aiobotocore==2.15.2->aiobotocore[boto3]==2.15.2->aioboto3->lightrag-hku==0.0.7) (6.1.0)\n",
      "Requirement already satisfied: yarl<2.0,>=1.12.0 in /usr/local/lib/python3.10/dist-packages (from aiohttp<4.0.0,>=3.9.2->aiobotocore==2.15.2->aiobotocore[boto3]==2.15.2->aioboto3->lightrag-hku==0.0.7) (1.17.1)\n",
      "Requirement already satisfied: async-timeout<5.0,>=4.0 in /usr/local/lib/python3.10/dist-packages (from aiohttp<4.0.0,>=3.9.2->aiobotocore==2.15.2->aiobotocore[boto3]==2.15.2->aioboto3->lightrag-hku==0.0.7) (4.0.3)\n",
      "Collecting jmespath<2.0.0,>=0.7.1 (from boto3<1.35.37,>=1.35.16->aiobotocore[boto3]==2.15.2->aioboto3->lightrag-hku==0.0.7)\n",
      "  Downloading jmespath-1.0.1-py3-none-any.whl.metadata (7.6 kB)\n",
      "Collecting s3transfer<0.11.0,>=0.10.0 (from boto3<1.35.37,>=1.35.16->aiobotocore[boto3]==2.15.2->aioboto3->lightrag-hku==0.0.7)\n",
      "  Downloading s3transfer-0.10.3-py3-none-any.whl.metadata (1.7 kB)\n",
      "Requirement already satisfied: parso<0.9.0,>=0.8.4 in /usr/local/lib/python3.10/dist-packages (from jedi>=0.16->ipython>=5.3.0->pyvis->lightrag-hku==0.0.7) (0.8.4)\n",
      "Requirement already satisfied: llvmlite<0.44,>=0.43.0dev0 in /usr/local/lib/python3.10/dist-packages (from numba>=0.46->hyppo<0.5.0,>=0.4.0->graspologic->lightrag-hku==0.0.7) (0.43.0)\n",
      "Requirement already satisfied: pytz>=2020.1 in /usr/local/lib/python3.10/dist-packages (from pandas>=1.2->seaborn<0.14.0,>=0.13.2->graspologic->lightrag-hku==0.0.7) (2024.2)\n",
      "Requirement already satisfied: tzdata>=2022.7 in /usr/local/lib/python3.10/dist-packages (from pandas>=1.2->seaborn<0.14.0,>=0.13.2->graspologic->lightrag-hku==0.0.7) (2024.2)\n",
      "Requirement already satisfied: ptyprocess>=0.5 in /usr/local/lib/python3.10/dist-packages (from pexpect>4.3->ipython>=5.3.0->pyvis->lightrag-hku==0.0.7) (0.7.0)\n",
      "Requirement already satisfied: wcwidth in /usr/local/lib/python3.10/dist-packages (from prompt-toolkit!=3.0.0,!=3.0.1,<3.1.0,>=2.0.0->ipython>=5.3.0->pyvis->lightrag-hku==0.0.7) (0.2.13)\n",
      "Requirement already satisfied: propcache>=0.2.0 in /usr/local/lib/python3.10/dist-packages (from yarl<2.0,>=1.12.0->aiohttp<4.0.0,>=3.9.2->aiobotocore==2.15.2->aiobotocore[boto3]==2.15.2->aioboto3->lightrag-hku==0.0.7) (0.2.0)\n",
      "Downloading lightrag_hku-0.0.7-py3-none-any.whl (33 kB)\n",
      "Downloading aioboto3-13.2.0-py3-none-any.whl (34 kB)\n",
      "Downloading aiobotocore-2.15.2-py3-none-any.whl (77 kB)\n",
      "\u001b[2K   \u001b[90m━━━━━━━━━━━━━━━━━━━━━━━━━━━━━━━━━━━━━━━━\u001b[0m \u001b[32m77.4/77.4 kB\u001b[0m \u001b[31m5.9 MB/s\u001b[0m eta \u001b[36m0:00:00\u001b[0m\n",
      "\u001b[?25hDownloading graspologic-3.4.1-py3-none-any.whl (5.2 MB)\n",
      "\u001b[2K   \u001b[90m━━━━━━━━━━━━━━━━━━━━━━━━━━━━━━━━━━━━━━━━\u001b[0m \u001b[32m5.2/5.2 MB\u001b[0m \u001b[31m58.1 MB/s\u001b[0m eta \u001b[36m0:00:00\u001b[0m\n",
      "\u001b[?25hDownloading scipy-1.12.0-cp310-cp310-manylinux_2_17_x86_64.manylinux2014_x86_64.whl (38.4 MB)\n",
      "\u001b[2K   \u001b[90m━━━━━━━━━━━━━━━━━━━━━━━━━━━━━━━━━━━━━━━━\u001b[0m \u001b[32m38.4/38.4 MB\u001b[0m \u001b[31m22.4 MB/s\u001b[0m eta \u001b[36m0:00:00\u001b[0m\n",
      "\u001b[?25hDownloading nano_vectordb-0.0.4.3-py3-none-any.whl (5.6 kB)\n",
      "Downloading ollama-0.3.3-py3-none-any.whl (10 kB)\n",
      "Downloading pyvis-0.3.2-py3-none-any.whl (756 kB)\n",
      "\u001b[2K   \u001b[90m━━━━━━━━━━━━━━━━━━━━━━━━━━━━━━━━━━━━━━━━\u001b[0m \u001b[32m756.0/756.0 kB\u001b[0m \u001b[31m38.6 MB/s\u001b[0m eta \u001b[36m0:00:00\u001b[0m\n",
      "\u001b[?25hDownloading tiktoken-0.8.0-cp310-cp310-manylinux_2_17_x86_64.manylinux2014_x86_64.whl (1.2 MB)\n",
      "\u001b[2K   \u001b[90m━━━━━━━━━━━━━━━━━━━━━━━━━━━━━━━━━━━━━━━━\u001b[0m \u001b[32m1.2/1.2 MB\u001b[0m \u001b[31m53.3 MB/s\u001b[0m eta \u001b[36m0:00:00\u001b[0m\n",
      "\u001b[?25hDownloading xxhash-3.5.0-cp310-cp310-manylinux_2_17_x86_64.manylinux2014_x86_64.whl (194 kB)\n",
      "\u001b[2K   \u001b[90m━━━━━━━━━━━━━━━━━━━━━━━━━━━━━━━━━━━━━━━━\u001b[0m \u001b[32m194.1/194.1 kB\u001b[0m \u001b[31m13.7 MB/s\u001b[0m eta \u001b[36m0:00:00\u001b[0m\n",
      "\u001b[?25hDownloading aiofiles-24.1.0-py3-none-any.whl (15 kB)\n",
      "Downloading anytree-2.12.1-py3-none-any.whl (44 kB)\n",
      "\u001b[2K   \u001b[90m━━━━━━━━━━━━━━━━━━━━━━━━━━━━━━━━━━━━━━━━\u001b[0m \u001b[32m44.9/44.9 kB\u001b[0m \u001b[31m3.4 MB/s\u001b[0m eta \u001b[36m0:00:00\u001b[0m\n",
      "\u001b[?25hDownloading beartype-0.18.5-py3-none-any.whl (917 kB)\n",
      "\u001b[2K   \u001b[90m━━━━━━━━━━━━━━━━━━━━━━━━━━━━━━━━━━━━━━━━\u001b[0m \u001b[32m917.8/917.8 kB\u001b[0m \u001b[31m44.5 MB/s\u001b[0m eta \u001b[36m0:00:00\u001b[0m\n",
      "\u001b[?25hDownloading graspologic_native-1.2.1-cp36-abi3-manylinux_2_17_x86_64.manylinux2014_x86_64.whl (1.2 MB)\n",
      "\u001b[2K   \u001b[90m━━━━━━━━━━━━━━━━━━━━━━━━━━━━━━━━━━━━━━━━\u001b[0m \u001b[32m1.2/1.2 MB\u001b[0m \u001b[31m50.3 MB/s\u001b[0m eta \u001b[36m0:00:00\u001b[0m\n",
      "\u001b[?25hDownloading hyppo-0.4.0-py3-none-any.whl (146 kB)\n",
      "\u001b[2K   \u001b[90m━━━━━━━━━━━━━━━━━━━━━━━━━━━━━━━━━━━━━━━━\u001b[0m \u001b[32m146.6/146.6 kB\u001b[0m \u001b[31m10.5 MB/s\u001b[0m eta \u001b[36m0:00:00\u001b[0m\n",
      "\u001b[?25hDownloading matplotlib-3.9.2-cp310-cp310-manylinux_2_17_x86_64.manylinux2014_x86_64.whl (8.3 MB)\n",
      "\u001b[2K   \u001b[90m━━━━━━━━━━━━━━━━━━━━━━━━━━━━━━━━━━━━━━━━\u001b[0m \u001b[32m8.3/8.3 MB\u001b[0m \u001b[31m88.0 MB/s\u001b[0m eta \u001b[36m0:00:00\u001b[0m\n",
      "\u001b[?25hDownloading POT-0.9.5-cp310-cp310-manylinux_2_17_x86_64.manylinux2014_x86_64.whl (865 kB)\n",
      "\u001b[2K   \u001b[90m━━━━━━━━━━━━━━━━━━━━━━━━━━━━━━━━━━━━━━━━\u001b[0m \u001b[32m865.6/865.6 kB\u001b[0m \u001b[31m45.7 MB/s\u001b[0m eta \u001b[36m0:00:00\u001b[0m\n",
      "\u001b[?25hDownloading umap_learn-0.5.7-py3-none-any.whl (88 kB)\n",
      "\u001b[2K   \u001b[90m━━━━━━━━━━━━━━━━━━━━━━━━━━━━━━━━━━━━━━━━\u001b[0m \u001b[32m88.8/88.8 kB\u001b[0m \u001b[31m6.2 MB/s\u001b[0m eta \u001b[36m0:00:00\u001b[0m\n",
      "\u001b[?25hDownloading aioitertools-0.12.0-py3-none-any.whl (24 kB)\n",
      "Downloading boto3-1.35.36-py3-none-any.whl (139 kB)\n",
      "\u001b[2K   \u001b[90m━━━━━━━━━━━━━━━━━━━━━━━━━━━━━━━━━━━━━━━━\u001b[0m \u001b[32m139.1/139.1 kB\u001b[0m \u001b[31m10.8 MB/s\u001b[0m eta \u001b[36m0:00:00\u001b[0m\n",
      "\u001b[?25hDownloading botocore-1.35.36-py3-none-any.whl (12.6 MB)\n",
      "\u001b[2K   \u001b[90m━━━━━━━━━━━━━━━━━━━━━━━━━━━━━━━━━━━━━━━━\u001b[0m \u001b[32m12.6/12.6 MB\u001b[0m \u001b[31m77.5 MB/s\u001b[0m eta \u001b[36m0:00:00\u001b[0m\n",
      "\u001b[?25hDownloading jedi-0.19.2-py2.py3-none-any.whl (1.6 MB)\n",
      "\u001b[2K   \u001b[90m━━━━━━━━━━━━━━━━━━━━━━━━━━━━━━━━━━━━━━━━\u001b[0m \u001b[32m1.6/1.6 MB\u001b[0m \u001b[31m56.7 MB/s\u001b[0m eta \u001b[36m0:00:00\u001b[0m\n",
      "\u001b[?25hDownloading pynndescent-0.5.13-py3-none-any.whl (56 kB)\n",
      "\u001b[2K   \u001b[90m━━━━━━━━━━━━━━━━━━━━━━━━━━━━━━━━━━━━━━━━\u001b[0m \u001b[32m56.9/56.9 kB\u001b[0m \u001b[31m4.3 MB/s\u001b[0m eta \u001b[36m0:00:00\u001b[0m\n",
      "\u001b[?25hDownloading jmespath-1.0.1-py3-none-any.whl (20 kB)\n",
      "Downloading s3transfer-0.10.3-py3-none-any.whl (82 kB)\n",
      "\u001b[2K   \u001b[90m━━━━━━━━━━━━━━━━━━━━━━━━━━━━━━━━━━━━━━━━\u001b[0m \u001b[32m82.6/82.6 kB\u001b[0m \u001b[31m6.5 MB/s\u001b[0m eta \u001b[36m0:00:00\u001b[0m\n",
      "\u001b[?25hBuilding wheels for collected packages: hnswlib\n",
      "  Building wheel for hnswlib (pyproject.toml) ... \u001b[?25l\u001b[?25hdone\n",
      "  Created wheel for hnswlib: filename=hnswlib-0.8.0-cp310-cp310-linux_x86_64.whl size=2360797 sha256=c01ca4e4e3931ac9c9ee9646c9777e8f3ee4fc3da9a978dcbadb2de2517dfeaa\n",
      "  Stored in directory: /root/.cache/pip/wheels/af/a9/3e/3e5d59ee41664eb31a4e6de67d1846f86d16d93c45f277c4e7\n",
      "Successfully built hnswlib\n",
      "Installing collected packages: xxhash, scipy, nano-vectordb, jmespath, jedi, hnswlib, graspologic-native, beartype, anytree, aioitertools, aiofiles, tiktoken, POT, matplotlib, botocore, s3transfer, pyvis, pynndescent, ollama, hyppo, umap-learn, boto3, aiobotocore, graspologic, aioboto3, lightrag-hku\n",
      "  Attempting uninstall: scipy\n",
      "    Found existing installation: scipy 1.13.1\n",
      "    Uninstalling scipy-1.13.1:\n",
      "      Successfully uninstalled scipy-1.13.1\n",
      "  Attempting uninstall: matplotlib\n",
      "    Found existing installation: matplotlib 3.8.0\n",
      "    Uninstalling matplotlib-3.8.0:\n",
      "      Successfully uninstalled matplotlib-3.8.0\n",
      "Successfully installed POT-0.9.5 aioboto3-13.2.0 aiobotocore-2.15.2 aiofiles-24.1.0 aioitertools-0.12.0 anytree-2.12.1 beartype-0.18.5 boto3-1.35.36 botocore-1.35.36 graspologic-3.4.1 graspologic-native-1.2.1 hnswlib-0.8.0 hyppo-0.4.0 jedi-0.19.2 jmespath-1.0.1 lightrag-hku-0.0.7 matplotlib-3.9.2 nano-vectordb-0.0.4.3 ollama-0.3.3 pynndescent-0.5.13 pyvis-0.3.2 s3transfer-0.10.3 scipy-1.12.0 tiktoken-0.8.0 umap-learn-0.5.7 xxhash-3.5.0\n"
     ]
    }
   ],
   "source": [
    "!pip install lightrag-hku==0.0.7"
   ]
  },
  {
   "cell_type": "code",
   "execution_count": null,
   "metadata": {
    "id": "twczbM2UuHXd"
   },
   "outputs": [],
   "source": [
    "from lightrag import LightRAG, QueryParam\n",
    "from lightrag.llm import gpt_4o_mini_complete, gpt_4o_complete"
   ]
  },
  {
   "cell_type": "code",
   "execution_count": null,
   "metadata": {
    "colab": {
     "base_uri": "https://localhost:8080/"
    },
    "id": "-jGwmWGIvBP4",
    "outputId": "8f65565b-b137-4c51-b7a2-1517652c8ffa"
   },
   "outputs": [
    {
     "name": "stderr",
     "output_type": "stream",
     "text": [
      "INFO:lightrag:Logger initialized for working directory: /content/book/\n",
      "DEBUG:lightrag:LightRAG init with param:\n",
      "  working_dir = /content/book/,\n",
      "  chunk_token_size = 1200,\n",
      "  chunk_overlap_token_size = 100,\n",
      "  tiktoken_model_name = gpt-4o-mini,\n",
      "  entity_extract_max_gleaning = 1,\n",
      "  entity_summary_to_max_tokens = 500,\n",
      "  node_embedding_algorithm = node2vec,\n",
      "  node2vec_params = {'dimensions': 1536, 'num_walks': 10, 'walk_length': 40, 'window_size': 2, 'iterations': 3, 'random_seed': 3},\n",
      "  embedding_func = {'embedding_dim': 1536, 'max_token_size': 8192, 'func': <function openai_embedding at 0x7b38730891b0>},\n",
      "  embedding_batch_num = 32,\n",
      "  embedding_func_max_async = 16,\n",
      "  llm_model_func = <function gpt_4o_complete at 0x7b3873088b80>,\n",
      "  llm_model_name = meta-llama/Llama-3.2-1B-Instruct,\n",
      "  llm_model_max_token_size = 32768,\n",
      "  llm_model_max_async = 16,\n",
      "  key_string_value_json_storage_cls = <class 'lightrag.storage.JsonKVStorage'>,\n",
      "  vector_db_storage_cls = <class 'lightrag.storage.NanoVectorDBStorage'>,\n",
      "  vector_db_storage_cls_kwargs = {},\n",
      "  graph_storage_cls = <class 'lightrag.storage.NetworkXStorage'>,\n",
      "  enable_llm_cache = True,\n",
      "  addon_params = {},\n",
      "  convert_response_to_json_func = <function convert_response_to_json at 0x7b3872ffe560>\n",
      "\n",
      "INFO:lightrag:Load KV full_docs with 0 data\n",
      "INFO:lightrag:Load KV text_chunks with 0 data\n",
      "INFO:lightrag:Load KV llm_response_cache with 0 data\n"
     ]
    }
   ],
   "source": [
    "import os\n",
    "import sys\n",
    "from transformers import AutoModel,AutoTokenizer\n",
    "os.environ[\"OPENAI_API_KEY\"] = \"\"\n",
    "WORKING_DIR = \"/content/book/\"\n",
    "\n",
    "if not os.path.exists(WORKING_DIR):\n",
    "    os.mkdir(WORKING_DIR)\n",
    "\n",
    "rag = LightRAG(\n",
    "    working_dir=WORKING_DIR,\n",
    "    llm_model_func=gpt_4o_complete\n",
    "    # llm_model_func=gpt_4o_complete\n",
    ")\n"
   ]
  },
  {
   "cell_type": "code",
   "execution_count": null,
   "metadata": {
    "colab": {
     "base_uri": "https://localhost:8080/"
    },
    "id": "EiME_9yYv3JS",
    "outputId": "a9ccb34c-fcfa-4e7e-d09c-843a271031d1"
   },
   "outputs": [
    {
     "name": "stderr",
     "output_type": "stream",
     "text": [
      "INFO:lightrag:[New Docs] inserting 1 docs\n",
      "INFO:lightrag:[New Chunks] inserting 142 chunks\n",
      "INFO:lightrag:Inserting 142 vectors to chunks\n",
      "INFO:lightrag:[Entity Extraction]...\n"
     ]
    },
    {
     "name": "stdout",
     "output_type": "stream",
     "text": []
    },
    {
     "name": "stderr",
     "output_type": "stream",
     "text": [
      "DEBUG:lightrag:Trigger summary: \"JENNIFER\"\n",
      "DEBUG:lightrag:Trigger summary: \"GROUP HOME\"\n",
      "DEBUG:lightrag:Trigger summary: \"TODD\"\n"
     ]
    },
    {
     "name": "stdout",
     "output_type": "stream",
     "text": [
      "\n"
     ]
    },
    {
     "name": "stderr",
     "output_type": "stream",
     "text": [
      "DEBUG:lightrag:Trigger summary: \"FLORIDA\"\n",
      "DEBUG:lightrag:Trigger summary: \"BILL\"\n",
      "DEBUG:lightrag:Trigger summary: \"THE GROUP HOME\"\n",
      "DEBUG:lightrag:Trigger summary: \"KELLY\"\n",
      "DEBUG:lightrag:Trigger summary: ('\"JENNIFER\"', '\"TODD\"')\n",
      "DEBUG:lightrag:Trigger summary: ('\"KELLY\"', '\"TODD\"')\n",
      "INFO:lightrag:Inserting 663 vectors to entities\n",
      "INFO:lightrag:Inserting 446 vectors to relationships\n",
      "INFO:lightrag:Writing graph with 667 nodes, 446 edges\n"
     ]
    }
   ],
   "source": [
    "import nest_asyncio\n",
    "nest_asyncio.apply()\n",
    "\n",
    "with open(\"/content/paragraphs.txt\") as f:\n",
    "    rag.insert(f.read())\n"
   ]
  },
  {
   "cell_type": "code",
   "execution_count": null,
   "metadata": {
    "colab": {
     "base_uri": "https://localhost:8080/",
     "height": 639
    },
    "id": "MK-Q_cv8fz5v",
    "outputId": "495e22f9-a538-4381-95bf-e27444214525"
   },
   "outputs": [
    {
     "name": "stdout",
     "output_type": "stream",
     "text": [
      "knowledge_graph.html\n"
     ]
    },
    {
     "data": {
      "text/html": [
       "\n",
       "        <iframe\n",
       "            width=\"100%\"\n",
       "            height=\"600px\"\n",
       "            src=\"knowledge_graph.html\"\n",
       "            frameborder=\"0\"\n",
       "            allowfullscreen\n",
       "            \n",
       "        ></iframe>\n",
       "        "
      ],
      "text/plain": [
       "<IPython.lib.display.IFrame at 0x7b39177e0130>"
      ]
     },
     "execution_count": 6,
     "metadata": {},
     "output_type": "execute_result"
    }
   ],
   "source": [
    "import networkx as nx\n",
    "from pyvis.network import Network\n",
    "\n",
    "# Load the GraphML file\n",
    "G = nx.read_graphml('./book/graph_chunk_entity_relation.graphml')\n",
    "\n",
    "# Create a Pyvis network with the appropriate cdn_resources option\n",
    "net = Network(notebook=True, cdn_resources='in_line')  # Use 'in_line' or 'remote' as needed\n",
    "\n",
    "# Convert NetworkX graph to Pyvis network\n",
    "net.from_nx(G)\n",
    "\n",
    "# Save and display the network\n",
    "net.show('knowledge_graph.html')\n"
   ]
  },
  {
   "cell_type": "code",
   "execution_count": null,
   "metadata": {
    "colab": {
     "base_uri": "https://localhost:8080/"
    },
    "id": "hIal0r8Ov1sW",
    "outputId": "74188561-8f2c-4484-c88b-e8f7f8d2f277"
   },
   "outputs": [
    {
     "name": "stderr",
     "output_type": "stream",
     "text": [
      "INFO:lightrag:Truncate 60 to 3 chunks\n"
     ]
    },
    {
     "name": "stdout",
     "output_type": "stream",
     "text": [
      "The story explores several themes, the most prominent being friendship, vulnerability, and personal growth.\n",
      "\n",
      "1. **Friendship and Support**: The narrative highlights the strong bond between Todd and Jennifer, as Jennifer is there to assist and support Todd in his daily activities. Their interactions are filled with warmth and humor, demonstrating the importance of having supportive friends who provide emotional and practical help.\n",
      "\n",
      "2. **Vulnerability and Acceptance**: Todd’s experiences, including his physical limitations and moments of vulnerability, are candidly portrayed. The story shows how he navigates these challenges and finds acceptance in the friendships he fosters, particularly with Jennifer, who treats him with kindness and respect.\n",
      "\n",
      "3. **Nostalgia and Personal Reflection**: The story frequently delves into Todd’s reflections on his past, such as reminiscing about his childhood experiences at the campground and his relationship with his uncle. This theme of nostalgia underscores the importance of memories in shaping one's identity and personal growth.\n",
      "\n",
      "4. **Independence and Agency**: Despite Todd’s physical challenges, his experiences with gaining some independence, like when he received a power wheelchair, illustrate his desire for autonomy. It highlights the significance of empowerment and the small victories that contribute to a sense of independence.\n",
      "\n",
      "5. **Humor and Lightheartedness in Adversity**: The story often uses humor in interactions between characters, particularly in playful and embarrassing situations. This theme emphasizes how humor can be a coping mechanism and a way to deal with difficult or awkward circumstances.\n",
      "\n",
      "Overall, the story weaves these themes to create a narrative centered on relationships, personal reflection, and the journey toward self-acceptance and independence.\n"
     ]
    },
    {
     "name": "stderr",
     "output_type": "stream",
     "text": [
      "INFO:lightrag:Local query uses 60 entites, 51 relations, 3 text units\n"
     ]
    },
    {
     "name": "stdout",
     "output_type": "stream",
     "text": [
      "The narrative provided in the tables emphasizes several key themes, which are woven through the various character interactions, settings, and events. These themes reflect both personal and broader societal aspects.\n",
      "\n",
      "### Independence and Autonomy\n",
      "\n",
      "A prominent theme throughout the story is the quest for independence and autonomy, particularly for the central character Todd. Todd resides in a group home where he frequently grapples with regulations and desires greater freedom. This theme is underscored by Todd's efforts to plan trips and navigate relationships despite the constraints imposed by his living situation. Independence is central to Todd’s identity and is reflected in his use of a golf cart at the campground, his job at the workshop, and his endeavors in managing personal finances and planning trips, such as the one to Las Vegas.\n",
      "\n",
      "### Relationships and Emotional Bonds\n",
      "\n",
      "Relationships form the core of Todd's experiences, with significant interactions among characters like Jennifer, Kelly, and Amy fostering rich emotional and social narratives. Todd's connections are multifaceted, involving supportive friendships, romantic relationships, and family dynamics. His relationship with Kelly, characterized by deep emotional bonds, illustrates complexities in romantic engagements, while his interactions with Jennifer highlight the importance of friendship and emotional support in daily life. The story also delves into familial relationships, showcasing Todd's ties with his parents, siblings, and other family members, which influence his life decisions and emotional state.\n",
      "\n",
      "### Overcoming Challenges and Growth\n",
      "\n",
      "The theme of overcoming challenges is evident as Todd navigates personal and systemic obstacles related to his disability and living conditions. This theme is manifested in his proactive approach to enhancing personal skills, engaging in club activities, and advocating for his rights within residential care. Todd's experiences in school, the workshop, and during different weather events epitomize his resilience and determination for personal growth. Despite facing financial stress and limitations imposed by his living arrangements, Todd’s adaptive strategies and support networks enable him to pursue a fulfilling life.\n",
      "\n",
      "### Identity and Self-Reflection\n",
      "\n",
      "Identity is another critical theme, explored through Todd's reflections on his experiences, relationships, and societal perceptions of disability. Through storytelling, Todd expresses his life story, showcasing an evolving understanding of himself and his place in the world. His engagement in writing projects with Jennifer and reflecting on past experiences at the campground and school contribute to a deeper understanding of his self-identity. The narrative fosters self-reflection, allowing Todd to navigate his challenges with a conscious sense of identity and self-worth.\n",
      "\n",
      "These themes collectively create a narrative that is not only relatable but also an insightful look into the experiences and aspirations of individuals navigating life with disabilities and the universal quest for independence and meaningful connections.\n"
     ]
    },
    {
     "name": "stderr",
     "output_type": "stream",
     "text": [
      "INFO:lightrag:Global query uses 32 entites, 60 relations, 3 text units\n"
     ]
    },
    {
     "name": "stdout",
     "output_type": "stream",
     "text": [
      "The narrative you refer to seems to be framed around several core themes that interweave throughout the lives of the characters. \n",
      "\n",
      "## 1. **Struggle for Independence and Autonomy**\n",
      "\n",
      "A central theme is Todd's quest for independence and autonomy. Living in a group home, Todd confronts institutional restrictions that limit his personal freedoms, particularly in areas such as dietary choices and lifestyle regulations. This setting often acts as a backdrop to his desire to leave the group home and establish a life marked by greater independence. His actions, like fighting for his Medicaid card and arranging his own living space, exemplify this struggle.\n",
      "\n",
      "## 2. **Relationships and Emotional Bonds**\n",
      "\n",
      "The story places significant emphasis on Todd's relationships and emotional bonds, particularly with characters like Kelly, Jennifer, and more. Todd's relationship with Kelly is characterized by deep affection and emotional complexity, while Jennifer provides unwavering friendship and support. These relationships shape Todd's experiences and are pivotal to the narrative. The interactions within these relationships, from shared conversations to navigating emotional struggles, highlight the importance of personal connections.\n",
      "\n",
      "## 3. **Challenging Social Norms and Perceptions**\n",
      "\n",
      "Another prominent theme is challenging societal perceptions, especially regarding individuals with disabilities. Todd's intelligence and personality often counter the stereotypes he encounters, and his determination to achieve independence becomes a testament to his resilience. This theme is also underscored by the interactions with the group home staff and the dynamics with individuals like Amy and Kelly, where Todd confronts and overcomes societal barriers.\n",
      "\n",
      "## 4. **Navigating Personal Growth and Identity**\n",
      "\n",
      "Personal growth and identity exploration are threads running through Todd's narrative. As he faces physical, emotional, and situational challenges, Todd reflects on his identity and future aspirations. Activities like writing, participating in workshops, and contemplating relationships contribute to his ongoing journey of self-discovery and growth. These personal reflections are integral to Todd's story, portraying a character striving for fulfillment amid obstacles.\n",
      "\n",
      "Together, these themes construct a multifaceted narrative that explores the complexities of life within a structured care environment, the bonds that sustain individuals, and the innate desire for autonomy and personal growth.\n"
     ]
    },
    {
     "name": "stderr",
     "output_type": "stream",
     "text": [
      "INFO:lightrag:Local query uses 60 entites, 51 relations, 3 text units\n",
      "INFO:lightrag:Global query uses 32 entites, 60 relations, 3 text units\n"
     ]
    },
    {
     "name": "stdout",
     "output_type": "stream",
     "text": [
      "In examining the data provided from the tables, a few recurring themes emerge prominently across the stories and character interactions. These themes reflect the complex interplay of personal growth, relationships, and the pursuit of independence.\n",
      "\n",
      "### **1. Independence and Autonomy**\n",
      "Both Todd and the narrator express a strong desire for autonomy throughout their narratives. Living in a group home, both individuals grapple with the constraints placed upon them by institutional regulations, reflecting a yearning for self-sufficiency and control over their destinies. This is highlighted by their continuous efforts to navigate daily life, establish independence, and question the motives behind systems like behavior programs. For Todd, securing financial independence and acquiring a new home are tangible goals he aspires to achieve, indicating his desire to break free from limitations.\n",
      "\n",
      "### **2. Meaningful Relationships and Emotional Connections**\n",
      "Relationships play a crucial role in the protagonists' lives. The bond between Todd and characters like Kelly, Jennifer, and his family members underscores the importance of meaningful emotional connections. Todd's relationship with Kelly is nuanced, involving deep affection and communication, indicating the complex layers of romance and friendship. Similarly, Jennifer's supportive friendship with both Todd and the narrator highlights the significance of understanding, empathy, and companionship.\n",
      "\n",
      "### **3. Challenges of Living with Disabilities**\n",
      "The story frequently delves into the challenges faced by individuals living with disabilities, showcasing both physical and emotional hurdles. Todd's life in the group home and the narrative's emphasis on navigating social security benefits, behavior programs, and communication barriers through assistive devices reflect the broader societal challenges faced by those with disabilities. It also portrays their advocacy for better conditions and their struggles for recognition and affirmation of their capabilities.\n",
      "\n",
      "### **4. Family Dynamics and Support Systems**\n",
      "Family interactions and support systems are integral to the narratives of both Todd and the narrator. The familial relationships are characterized by their complexities, where support from parents and siblings provides a foundation, though often complicated by financial disputes and personal conflicts. Todd's interactions with family members, their involvement in his life decisions, and the emotional support they offer illustrate the intricate nature of familial bonds.\n",
      "\n",
      "### **5. Overcoming Personal Challenges**\n",
      "Personal growth and resilience are underlying themes throughout the stories. Both Todd and the narrator exhibit strength in overcoming past traumas, financial burdens, and relationship struggles. Whether it's Todd's proactive approach to addressing his financial challenges or the narrator's reflection on past experiences to find clarity and direction, these narratives are rich with themes of perseverance and self-discovery.\n",
      "\n",
      "These themes collectively paint a vivid portrayal of the characters’ journeys as they navigate through life's challenges and relationships, aspiring for a life of greater independence and emotional fulfillment.\n"
     ]
    }
   ],
   "source": [
    "\n",
    "\n",
    "# Perform naive search\n",
    "print(rag.query(\"What are the top themes in this story?\", param=QueryParam(mode=\"naive\")))\n",
    "\n",
    "# Perform local search\n",
    "print(rag.query(\"What are the top themes in this story?\", param=QueryParam(mode=\"local\")))\n",
    "\n",
    "# Perform global search\n",
    "print(rag.query(\"What are the top themes in this story?\", param=QueryParam(mode=\"global\")))\n",
    "\n",
    "# Perform hybrid search\n",
    "print(rag.query(\"What are the top themes in this story?\", param=QueryParam(mode=\"hybrid\")))"
   ]
  },
  {
   "cell_type": "code",
   "execution_count": null,
   "metadata": {
    "colab": {
     "base_uri": "https://localhost:8080/"
    },
    "id": "Ny1ABB4yRfyN",
    "outputId": "367e34d0-7c8f-416b-fbd9-9b2084e396b4"
   },
   "outputs": [
    {
     "name": "stdout",
     "output_type": "stream",
     "text": [
      "Enter your query: Who is martha\n"
     ]
    },
    {
     "name": "stderr",
     "output_type": "stream",
     "text": [
      "INFO:lightrag:Truncate 60 to 3 chunks\n",
      "INFO:lightrag:Local query uses 60 entites, 51 relations, 3 text units\n",
      "INFO:lightrag:Global query uses 32 entites, 60 relations, 3 text units\n",
      "INFO:lightrag:Local query uses 60 entites, 51 relations, 3 text units\n",
      "INFO:lightrag:Global query uses 32 entites, 60 relations, 3 text units\n"
     ]
    },
    {
     "name": "stdout",
     "output_type": "stream",
     "text": [
      "Naive: Martha is my cat, and I’d do anything for her. (Latency: 1.15 seconds)\n",
      "Local: Martha's my cat; she's my companion and daily joy. (Latency: 4.14 seconds)\n",
      "Global: Martha's my playful cat; she adds joy and companionship at home. (Latency: 2.22 seconds)\n",
      "Hybrid: Martha's my cat, a cherished companion in my daily life. (Latency: 3.60 seconds)\n",
      "Select the best response (naive, local, global, hybrid): quit\n",
      "You selected: No valid choice made.\n",
      "\n",
      "Conversation History:\n",
      "1. User: Who is martha\n",
      "   Todd: No valid choice made.\n"
     ]
    }
   ],
   "source": [
    "import time\n",
    "\n",
    "# Initialize conversation history to store selected pairs\n",
    "conversation_history = []\n",
    "\n",
    "# Get user input for the query\n",
    "user_query = input(\"Enter your query: \")\n",
    "\n",
    "# Function to handle queries and provide options\n",
    "def generate_response_options(query_mode, user_query):\n",
    "    start_time = time.time()\n",
    "    response = rag.query(\n",
    "        f\"As Todd, respond to the following question in a conversational manner, keeping the response under 15 words for brevity and relevance: {user_query}. Focus on providing an honest and personal answer that aligns with my perspective in the story.\",\n",
    "        param=QueryParam(mode=query_mode)\n",
    "    )\n",
    "    latency = time.time() - start_time\n",
    "    return response, latency\n",
    "\n",
    "# Generate responses for each mode\n",
    "response_naive, latency_naive = generate_response_options(\"naive\", user_query)\n",
    "response_local, latency_local = generate_response_options(\"local\", user_query)\n",
    "response_global, latency_global = generate_response_options(\"global\", user_query)\n",
    "response_hybrid, latency_hybrid = generate_response_options(\"hybrid\", user_query)\n",
    "\n",
    "# Display the options to the user\n",
    "print(f\"Naive: {response_naive} (Latency: {latency_naive:.2f} seconds)\")\n",
    "print(f\"Local: {response_local} (Latency: {latency_local:.2f} seconds)\")\n",
    "print(f\"Global: {response_global} (Latency: {latency_global:.2f} seconds)\")\n",
    "print(f\"Hybrid: {response_hybrid} (Latency: {latency_hybrid:.2f} seconds)\")\n",
    "\n",
    "# Get user's choice of response\n",
    "selected_response = input(\"Select the best response (naive, local, global, hybrid): \").strip().lower()\n",
    "\n",
    "# Map user's choice to the corresponding response\n",
    "response_mapping = {\n",
    "    \"naive\": response_naive,\n",
    "    \"local\": response_local,\n",
    "    \"global\": response_global,\n",
    "    \"hybrid\": response_hybrid\n",
    "}\n",
    "chosen_response = response_mapping.get(selected_response, \"No valid choice made.\")\n",
    "\n",
    "# Store the user query and chosen response pair in conversation history\n",
    "conversation_history.append((user_query, chosen_response))\n",
    "\n",
    "print(f\"You selected: {chosen_response}\")\n",
    "\n",
    "# The conversation history can now be used to inform future queries.\n",
    "# Example: printing the conversation history\n",
    "print(\"\\nConversation History:\")\n",
    "for i, (q, r) in enumerate(conversation_history, start=1):\n",
    "    print(f\"{i}. User: {q}\\n   Todd: {r}\")\n"
   ]
  },
  {
   "cell_type": "code",
   "execution_count": null,
   "metadata": {
    "colab": {
     "base_uri": "https://localhost:8080/"
    },
    "id": "BbCCs_uLUBBT",
    "outputId": "c2a24212-b6ca-4d89-8d1a-c0437fe3f68a"
   },
   "outputs": [
    {
     "name": "stdout",
     "output_type": "stream",
     "text": [
      "[('How was your weekend?', 'My weekend was fun; I hung out with friends and enjoyed some independence.')]\n"
     ]
    }
   ],
   "source": [
    "print(conversation_history)"
   ]
  },
  {
   "cell_type": "code",
   "execution_count": null,
   "metadata": {
    "colab": {
     "base_uri": "https://localhost:8080/"
    },
    "id": "kiOiIM-_Xypm",
    "outputId": "7597c80b-74b9-49e0-f57e-77e6db1e38c3"
   },
   "outputs": [
    {
     "name": "stdout",
     "output_type": "stream",
     "text": [
      "kv_store_full_docs.json\n",
      "vdb_chunks.json\n",
      "graph_chunk_entity_relation.graphml\n",
      "kv_store_text_chunks.json\n",
      "lightrag.log\n",
      "vdb_entities.json\n",
      "vdb_relationships.json\n",
      "kv_store_llm_response_cache.json\n"
     ]
    }
   ],
   "source": [
    "import os\n",
    "\n",
    "# List all files and directories in the specified path\n",
    "for item in os.listdir('/content/book/'):\n",
    "    print(item)\n"
   ]
  },
  {
   "cell_type": "code",
   "execution_count": null,
   "metadata": {
    "colab": {
     "base_uri": "https://localhost:8080/"
    },
    "id": "UdFEH7RlbYYS",
    "outputId": "9e80aa0f-a5bd-400a-bfe0-80dc8e3690ed"
   },
   "outputs": [
    {
     "name": "stdout",
     "output_type": "stream",
     "text": [
      "Book folder zipped at: /content/book_backup_gpt4o.zip\n"
     ]
    }
   ],
   "source": [
    "import shutil\n",
    "\n",
    "# Define the path for the folder and the zip file\n",
    "folder_path = \"/content/book/\"\n",
    "zip_path = \"/content/book_backup_gpt4o.zip\"\n",
    "\n",
    "# Create a zip file of the book folder\n",
    "shutil.make_archive(zip_path.replace('.zip', ''), 'zip', folder_path)\n",
    "print(f\"Book folder zipped at: {zip_path}\")\n"
   ]
  },
  {
   "cell_type": "code",
   "execution_count": null,
   "metadata": {
    "colab": {
     "base_uri": "https://localhost:8080/"
    },
    "id": "tlW67akpbe4E",
    "outputId": "39858de1-0854-443c-aed8-6159aa11774b"
   },
   "outputs": [
    {
     "name": "stdout",
     "output_type": "stream",
     "text": [
      "Book folder unzipped to: /content/book1/\n"
     ]
    }
   ],
   "source": [
    "import shutil\n",
    "\n",
    "# Define the path to where the zip is uploaded and the extraction path\n",
    "zip_path = \"/content/book_backup_gpt4o.zip\"\n",
    "extraction_path = \"/content/book1/\"\n",
    "\n",
    "# Unzip the folder\n",
    "shutil.unpack_archive(zip_path, extraction_path)\n",
    "print(f\"Book folder unzipped to: {extraction_path}\")\n"
   ]
  },
  {
   "cell_type": "code",
   "execution_count": null,
   "metadata": {
    "colab": {
     "base_uri": "https://localhost:8080/"
    },
    "id": "2uxjDmsSbig4",
    "outputId": "f0852be2-bef1-4fd7-b9bd-aba35abc2071"
   },
   "outputs": [
    {
     "name": "stderr",
     "output_type": "stream",
     "text": [
      "INFO:lightrag:Logger initialized for working directory: /content/book1/\n",
      "DEBUG:lightrag:LightRAG init with param:\n",
      "  working_dir = /content/book1/,\n",
      "  chunk_token_size = 1200,\n",
      "  chunk_overlap_token_size = 100,\n",
      "  tiktoken_model_name = gpt-4o-mini,\n",
      "  entity_extract_max_gleaning = 1,\n",
      "  entity_summary_to_max_tokens = 500,\n",
      "  node_embedding_algorithm = node2vec,\n",
      "  node2vec_params = {'dimensions': 1536, 'num_walks': 10, 'walk_length': 40, 'window_size': 2, 'iterations': 3, 'random_seed': 3},\n",
      "  embedding_func = {'embedding_dim': 1536, 'max_token_size': 8192, 'func': <function openai_embedding at 0x7b38730891b0>},\n",
      "  embedding_batch_num = 32,\n",
      "  embedding_func_max_async = 16,\n",
      "  llm_model_func = <function gpt_4o_mini_complete at 0x7b3873088c10>,\n",
      "  llm_model_name = meta-llama/Llama-3.2-1B-Instruct,\n",
      "  llm_model_max_token_size = 32768,\n",
      "  llm_model_max_async = 16,\n",
      "  key_string_value_json_storage_cls = <class 'lightrag.storage.JsonKVStorage'>,\n",
      "  vector_db_storage_cls = <class 'lightrag.storage.NanoVectorDBStorage'>,\n",
      "  vector_db_storage_cls_kwargs = {},\n",
      "  graph_storage_cls = <class 'lightrag.storage.NetworkXStorage'>,\n",
      "  enable_llm_cache = True,\n",
      "  addon_params = {},\n",
      "  convert_response_to_json_func = <function convert_response_to_json at 0x7b3872ffe560>\n",
      "\n",
      "INFO:lightrag:Load KV full_docs with 1 data\n",
      "INFO:lightrag:Load KV text_chunks with 142 data\n",
      "INFO:lightrag:Load KV llm_response_cache with 303 data\n",
      "INFO:lightrag:Loaded graph from /content/book1/graph_chunk_entity_relation.graphml with 667 nodes, 446 edges\n"
     ]
    },
    {
     "name": "stdout",
     "output_type": "stream",
     "text": [
      "RAG system initialized with restored data.\n"
     ]
    }
   ],
   "source": [
    "from lightrag import LightRAG\n",
    "\n",
    "# Initialize LightRAG with the working directory\n",
    "rag = LightRAG(\n",
    "    working_dir=extraction_path,\n",
    "    llm_model_func=gpt_4o_mini_complete\n",
    ")\n",
    "\n",
    "print(\"RAG system initialized with restored data.\")\n"
   ]
  }
 ],
 "metadata": {
  "colab": {
   "provenance": []
  },
  "kernelspec": {
   "display_name": "Python 3",
   "name": "python3"
  },
  "language_info": {
   "name": "python"
  }
 },
 "nbformat": 4,
 "nbformat_minor": 0
}
