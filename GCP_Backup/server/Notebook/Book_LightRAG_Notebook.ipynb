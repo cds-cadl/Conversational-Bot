{
 "cells": [
  {
   "cell_type": "code",
   "execution_count": 1,
   "id": "a8630823-b49a-4455-a8b0-4883b30ef3b3",
   "metadata": {},
   "outputs": [
    {
     "name": "stdout",
     "output_type": "stream",
     "text": [
      "API key is set.\n"
     ]
    }
   ],
   "source": [
    "import os\n",
    "\n",
    "# Retrieve the API key from the environment variable\n",
    "os.environ[\"OPENAI_API_KEY\"] = os.getenv(\"OPENAI_API_KEY\")\n",
    "\n",
    "# Confirm that the API key is set (do not print the key in production code)\n",
    "if os.environ[\"OPENAI_API_KEY\"]:\n",
    "    print(\"API key is set.\")\n",
    "else:\n",
    "    print(\"API key is not set.\")\n"
   ]
  },
  {
   "cell_type": "code",
   "execution_count": 2,
   "id": "68c3a2dc-c114-4a11-96c5-9c38c7a07c51",
   "metadata": {},
   "outputs": [
    {
     "name": "stdout",
     "output_type": "stream",
     "text": [
      "\u001b[31mERROR: Could not find a version that satisfies the requirement lightrag-hku (from versions: none)\u001b[0m\n",
      "\u001b[31mERROR: No matching distribution found for lightrag-hku\u001b[0m\n",
      "Note: you may need to restart the kernel to use updated packages.\n"
     ]
    }
   ],
   "source": [
    "pip install lightrag-hku"
   ]
  },
  {
   "cell_type": "code",
   "execution_count": null,
   "id": "877a50c1-cd90-4396-98dd-1be3ae9c7572",
   "metadata": {},
   "outputs": [],
   "source": [
    "from lightrag import LightRAG, QueryParam\n",
    "from lightrag.llm import gpt_4o_mini_complete, gpt_4o_complete"
   ]
  },
  {
   "cell_type": "code",
   "execution_count": null,
   "id": "2de325c1-7649-41e8-a6de-edc1a00ea863",
   "metadata": {},
   "outputs": [],
   "source": [
    "import os\n",
    "import sys\n",
    "import shutil\n",
    "from transformers import AutoModel,AutoTokenizer\n",
    "\n",
    "# Define the path of the zip and the extraction path\n",
    "\n",
    "extraction_path = \"/home/manohargolleru2000/server/Notebook/\"\n",
    "\n",
    "\n",
    "# Initialize LightRAG with the working directory\n",
    "rag = LightRAG(\n",
    "    working_dir=extraction_path,\n",
    "    llm_model_func=gpt_4o_mini_complete\n",
    ")\n",
    "\n",
    "print(\"RAG system initialized with restored data.\")\n"
   ]
  },
  {
   "cell_type": "code",
   "execution_count": null,
   "id": "e6a2d879-5317-46a5-8cfd-88897d4f50a2",
   "metadata": {},
   "outputs": [],
   "source": [
    "import nest_asyncio\n",
    "nest_asyncio.apply()\n"
   ]
  },
  {
   "cell_type": "code",
   "execution_count": null,
   "id": "7dd52bbd-a2ad-4573-aee7-478db0789d53",
   "metadata": {},
   "outputs": [],
   "source": [
    "import time\n",
    "\n",
    "# Initialize conversation history to store selected pairs\n",
    "conversation_history = []\n",
    "\n",
    "# Get user input for the query\n",
    "user_query = input(\"Enter your query: \")\n",
    "\n",
    "# Function to handle queries and provide options\n",
    "def generate_response_options(query_mode, user_query):\n",
    "    start_time = time.time()\n",
    "    response = rag.query(\n",
    "        f\"As Todd, respond to the following question in a conversational manner, keeping the response under 15 words for brevity and relevance: {user_query}. Focus on providing an honest and personal answer that aligns with my perspective in the story.\",\n",
    "        param=QueryParam(mode=query_mode)\n",
    "    )\n",
    "    latency = time.time() - start_time\n",
    "    return response, latency\n",
    "\n",
    "# Generate responses for each mode\n",
    "response_naive, latency_naive = generate_response_options(\"naive\", user_query)\n",
    "response_local, latency_local = generate_response_options(\"local\", user_query)\n",
    "response_global, latency_global = generate_response_options(\"global\", user_query)\n",
    "response_hybrid, latency_hybrid = generate_response_options(\"hybrid\", user_query)\n",
    "\n",
    "# Display the options to the user\n",
    "print(f\"Naive: {response_naive} (Latency: {latency_naive:.2f} seconds)\")\n",
    "print(f\"Local: {response_local} (Latency: {latency_local:.2f} seconds)\")\n",
    "print(f\"Global: {response_global} (Latency: {latency_global:.2f} seconds)\")\n",
    "print(f\"Hybrid: {response_hybrid} (Latency: {latency_hybrid:.2f} seconds)\")\n",
    "\n",
    "# Get user's choice of response\n",
    "selected_response = input(\"Select the best response (naive, local, global, hybrid): \").strip().lower()\n",
    "\n",
    "# Map user's choice to the corresponding response\n",
    "response_mapping = {\n",
    "    \"naive\": response_naive,\n",
    "    \"local\": response_local,\n",
    "    \"global\": response_global,\n",
    "    \"hybrid\": response_hybrid\n",
    "}\n",
    "chosen_response = response_mapping.get(selected_response, \"No valid choice made.\")\n",
    "\n",
    "# Store the user query and chosen response pair in conversation history\n",
    "conversation_history.append((user_query, chosen_response))\n",
    "\n",
    "print(f\"You selected: {chosen_response}\")\n",
    "\n",
    "# The conversation history can now be used to inform future queries.\n",
    "# Example: printing the conversation history\n",
    "print(\"\\nConversation History:\")\n",
    "for i, (q, r) in enumerate(conversation_history, start=1):\n",
    "    print(f\"{i}. User: {q}\\n   Todd: {r}\")\n"
   ]
  }
 ],
 "metadata": {
  "kernelspec": {
   "display_name": "Python 3 (ipykernel)",
   "language": "python",
   "name": "python3"
  },
  "language_info": {
   "codemirror_mode": {
    "name": "ipython",
    "version": 3
   },
   "file_extension": ".py",
   "mimetype": "text/x-python",
   "name": "python",
   "nbconvert_exporter": "python",
   "pygments_lexer": "ipython3",
   "version": "3.8.10"
  }
 },
 "nbformat": 4,
 "nbformat_minor": 5
}
